{
 "cells": [
  {
   "cell_type": "markdown",
   "id": "42c10ffc",
   "metadata": {},
   "source": [
    "# Matplotlib"
   ]
  },
  {
   "cell_type": "markdown",
   "id": "efc43ccb",
   "metadata": {},
   "source": [
    "## 安装\n",
    "\n",
    "```python\n",
    "pip install matplotlib\n",
    "```"
   ]
  },
  {
   "cell_type": "markdown",
   "id": "530f6284",
   "metadata": {},
   "source": [
    "## 使用\n",
    "\n",
    "Pyplot 是 Matplotlib 的子库，提供了和 MATLAB 类似的绘图 API。\n",
    "\n",
    "普遍的惯例是使用一个简短的别名 `np`。\n",
    "\n",
    "```python\n",
    "import matplotlib.pyplot as plt\n",
    "```"
   ]
  }
 ],
 "metadata": {
  "language_info": {
   "name": "python"
  }
 },
 "nbformat": 4,
 "nbformat_minor": 5
}
