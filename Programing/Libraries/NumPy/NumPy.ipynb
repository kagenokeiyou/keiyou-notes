{
 "cells": [
  {
   "cell_type": "markdown",
   "id": "d7a7e10c",
   "metadata": {},
   "source": [
    "# numpy"
   ]
  },
  {
   "cell_type": "markdown",
   "id": "24ac18c5",
   "metadata": {},
   "source": [
    "## 安装\n",
    "\n",
    "```shell\n",
    "pip install numpy\n",
    "```"
   ]
  },
  {
   "cell_type": "markdown",
   "id": "2779cda1",
   "metadata": {},
   "source": [
    "## 使用\n",
    "\n",
    "普遍的惯例是使用一个简短的别名 `np`"
   ]
  },
  {
   "cell_type": "code",
   "execution_count": 2,
   "id": "11a870db",
   "metadata": {},
   "outputs": [],
   "source": [
    "import numpy as np"
   ]
  },
  {
   "cell_type": "markdown",
   "id": "82b29c10",
   "metadata": {},
   "source": [
    "## 创建数组\n",
    "\n",
    "```python\n",
    "numpy.array(object, dtype=None, *, copy=True, order='K', subok=False, ndmin=0, like=None)\n",
    "```\n",
    "\n",
    "* `object`：要转换成 NumPy 数组的输入对象。\n",
    "* `dtype`：数据类型。若未指定，将尝试使用一个能够表示这些值的默认类型。\n",
    "* `copy`：如果为 `True`，创建一个新数组。若为 `False`，尽可能使用原对象的内存。\n",
    "* `order`：不常用，数组内存的布局。可选 `'K'`，`'A'`，`'C'`，`'F'`\n",
    "  * `'K'`：尽量与输入保持一致。F & C 顺序保持，否则为最接近的顺序。\n",
    "  * `'A'`：尽量与输入保持一致。如果输入是 F 且不是 C，则为 F 顺序，否则为 C 顺序。\n",
    "  * `'C'`：按行（C语言风格）存储。\n",
    "  * `'F'`：按列（Fortran风格）存储。\n",
    "* `subok`：如果为 `False` 强制返回 `ndarray`。为 `True` 时，如果输入是 `ndarray` 的子类，则返回相同类型的对象。\n",
    "* `ndmin`：最小维数。如果输入维度小于 `ndmin`，会补足维度。\n",
    "* `like`：不常用，用于创建非 NumPy 数组。"
   ]
  },
  {
   "cell_type": "code",
   "execution_count": 5,
   "id": "cab3d280",
   "metadata": {},
   "outputs": [
    {
     "data": {
      "text/plain": [
       "array([1, 2, 3])"
      ]
     },
     "execution_count": 5,
     "metadata": {},
     "output_type": "execute_result"
    }
   ],
   "source": [
    "np.array([1, 2, 3])"
   ]
  },
  {
   "cell_type": "markdown",
   "id": "42310a9c",
   "metadata": {},
   "source": [
    "```python\n",
    "numpy.empty(shape, dtype=float, order='C', *, device=None, like=None)\n",
    "```\n",
    "\n",
    "创建指定形状和类型，且类型未初始化的数组。\n",
    "\n",
    "* `shape`：数组的形状。例如 `(2, 3)` 或 `2`。\n",
    "* `order`：可选 `'C'`，`'F'`。\n",
    "* `device`：不常用，无需了解。"
   ]
  },
  {
   "cell_type": "code",
   "execution_count": 4,
   "id": "caaaf934",
   "metadata": {},
   "outputs": [
    {
     "data": {
      "text/plain": [
       "array([[6.23042070e-307, 4.67296746e-307],\n",
       "       [1.69121096e-306, 1.02359984e-306]])"
      ]
     },
     "execution_count": 4,
     "metadata": {},
     "output_type": "execute_result"
    }
   ],
   "source": [
    "np.empty((2,2))"
   ]
  },
  {
   "cell_type": "markdown",
   "id": "734d92c3",
   "metadata": {},
   "source": [
    "```python\n",
    "numpy.zeros(shape, dtype=float, order='C', *, like=None)\n",
    "```\n",
    "\n",
    "创建给定形状和类型的数组，并用 0 填充。"
   ]
  },
  {
   "cell_type": "code",
   "execution_count": 6,
   "id": "60627ab3",
   "metadata": {},
   "outputs": [
    {
     "data": {
      "text/plain": [
       "array([0., 0., 0., 0., 0., 0.])"
      ]
     },
     "execution_count": 6,
     "metadata": {},
     "output_type": "execute_result"
    }
   ],
   "source": [
    "np.zeros(6)"
   ]
  }
 ],
 "metadata": {
  "kernelspec": {
   "display_name": "base",
   "language": "python",
   "name": "python3"
  },
  "language_info": {
   "codemirror_mode": {
    "name": "ipython",
    "version": 3
   },
   "file_extension": ".py",
   "mimetype": "text/x-python",
   "name": "python",
   "nbconvert_exporter": "python",
   "pygments_lexer": "ipython3",
   "version": "3.13.5"
  }
 },
 "nbformat": 4,
 "nbformat_minor": 5
}
